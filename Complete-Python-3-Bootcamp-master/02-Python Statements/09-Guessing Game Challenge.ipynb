{
 "cells": [
  {
   "cell_type": "markdown",
   "metadata": {},
   "source": [
    "# Guessing Game Challenge\n",
    "\n",
    "Let's use `while` loops to create a guessing game.\n",
    "\n",
    "The Challenge:\n",
    "\n",
    "Write a program that picks a random integer from 1 to 100, and has players guess the number. The rules are:\n",
    "\n",
    "1. If a player's guess is less than 1 or greater than 100, say \"OUT OF BOUNDS\"\n",
    "2. On a player's first turn, if their guess is\n",
    " * within 10 of the number, return \"WARM!\"\n",
    " * further than 10 away from the number, return \"COLD!\"\n",
    "3. On all subsequent turns, if a guess is \n",
    " * closer to the number than the previous guess return \"WARMER!\"\n",
    " * farther from the number than the previous guess, return \"COLDER!\"\n",
    "4. When the player's guess equals the number, tell them they've guessed correctly *and* how many guesses it took!\n",
    "\n",
    "You can try this from scratch, or follow the steps outlined below. A separate Solution notebook has been provided. Good luck!\n"
   ]
  },
  {
   "cell_type": "markdown",
   "metadata": {},
   "source": [
    "#### First, pick a random integer from 1 to 100 using the random module and assign it to a variable\n",
    "\n",
    "Note: `random.randint(a,b)` returns a random integer in range `[a, b]`, including both end points."
   ]
  },
  {
   "cell_type": "markdown",
   "metadata": {},
   "source": [
    "#### Next, print an introduction to the game and explain the rules"
   ]
  },
  {
   "cell_type": "markdown",
   "metadata": {},
   "source": [
    "#### Create a list to store guesses\n",
    "\n",
    "Hint: zero is a good placeholder value. It's useful because it evaluates to \"False\""
   ]
  },
  {
   "cell_type": "markdown",
   "metadata": {},
   "source": [
    "#### Write a `while` loop that asks for a valid guess. Test it a few times to make sure it works."
   ]
  },
  {
   "cell_type": "code",
   "execution_count": 9,
   "metadata": {},
   "outputs": [
    {
     "name": "stdout",
     "output_type": "stream",
     "text": [
      "Welcome to the game. You can enter a number between 1 and 100.You will get one of these messages: 1) YOU WON! 2) WARM! 2) COLD!Message 2 means you picked a number within 10 values below or abovethe number you must guess. Message 3 means your guess is further awayfrom the solution. You can stop anytime by typing 0. Have fun!\n",
      "Please pick a number. 50\n",
      "COLD!\n",
      "Please pick a number. 25\n",
      "COLD!\n",
      "Please pick a number. 75\n",
      "WARM!\n",
      "Please pick a number. 85\n",
      "WARM!\n",
      "Please pick a number. 95\n",
      "COLD!\n",
      "Please pick a number. 65\n",
      "COLD!\n",
      "Please pick a number. 80\n",
      "WARM!\n",
      "Please pick a number. 70\n",
      "WARM!\n",
      "Please pick a number. 69\n",
      "WARM!\n",
      "Please pick a number. 68\n",
      "WARM!\n",
      "Please pick a number. 67\n",
      "COLD!\n",
      "Please pick a number. 87\n",
      "WARM!\n",
      "Please pick a number. 88\n",
      "WARM!\n",
      "Please pick a number. 89\n",
      "COLD!\n",
      "Please pick a number. 76\n",
      "WARM!\n",
      "Please pick a number. 77\n",
      "WARM!\n",
      "Please pick a number. 78\n",
      "YOU WON!\n"
     ]
    }
   ],
   "source": [
    "#Import random module to use randint (creates random integer)\n",
    "from random import randint\n",
    "\n",
    "#generate random integer between 1 and 100\n",
    "guess_int = randint(1, 100)\n",
    "\n",
    "print(\"Welcome to the game. You can enter a number between 1 and 100.\\\n",
    "You will get one of these messages: 1) YOU WON! 2) WARM! 2) COLD!\\\n",
    "Message 2 means you picked a number within 10 values below or above\\\n",
    "the number you must guess. Message 3 means your guess is further away\\\n",
    "from the solution. You can stop anytime by typing 0. Have fun!\")\n",
    "\n",
    "while True:\n",
    "    try:\n",
    "#the player is asked for a number\n",
    "        guess = int(input(\"Please pick a number. \"))\n",
    "#the user can stop any time:\n",
    "        if guess == 0:\n",
    "            print(\"Thank you for playing!\")\n",
    "            break\n",
    "#the number must be between 1 and 100\n",
    "        elif guess < 1 or guess > 100:\n",
    "            print(\"Please enter a number between 1 and 100.\")\n",
    "            continue\n",
    "#if user guess is equal to random, print YOU WON!\n",
    "        elif guess == guess_int:\n",
    "            print(\"YOU WON!\")\n",
    "            break\n",
    "#if user guess is bigger than the random minus 10, print WARM!\n",
    "#if user guess is smaller than random plus 10, print WARM!\n",
    "        elif guess >= (guess_int - 10) and guess <= (guess_int + 10):\n",
    "            print(\"WARM!\")\n",
    "#if user guess is smaller than random minus 10, print COLD!\n",
    "#if user guess is bigger than random plus 10, print COLD!\n",
    "        elif guess < (guess_int - 10) or guess > (guess_int + 10):\n",
    "            print(\"COLD!\")\n",
    "#the input has to be an integer\n",
    "    except ValueError:\n",
    "        print(\"Please only enter one number as correct input.\")\n",
    "        continue"
   ]
  },
  {
   "cell_type": "markdown",
   "metadata": {},
   "source": [
    "That's it! You've just programmed your first game!\n",
    "\n",
    "In the next section we'll learn how to turn some of these repetitive actions into *functions* that can be called whenever we need them."
   ]
  },
  {
   "cell_type": "markdown",
   "metadata": {},
   "source": [
    "### Good Job!"
   ]
  }
 ],
 "metadata": {
  "kernelspec": {
   "display_name": "Python 3",
   "language": "python",
   "name": "python3"
  },
  "language_info": {
   "codemirror_mode": {
    "name": "ipython",
    "version": 3
   },
   "file_extension": ".py",
   "mimetype": "text/x-python",
   "name": "python",
   "nbconvert_exporter": "python",
   "pygments_lexer": "ipython3",
   "version": "3.7.0"
  }
 },
 "nbformat": 4,
 "nbformat_minor": 2
}
