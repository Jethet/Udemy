{
 "cells": [
  {
   "cell_type": "markdown",
   "metadata": {},
   "source": [
    "# Collections Module"
   ]
  },
  {
   "cell_type": "markdown",
   "metadata": {},
   "source": [
    "Counter is a dictionary subclass which helps count hashable objects.\n",
    "A Counter is a container that keeps track of how many times equivalent values are added. "
   ]
  },
  {
   "cell_type": "code",
   "execution_count": 8,
   "metadata": {},
   "outputs": [],
   "source": [
    "from collections import Counter"
   ]
  },
  {
   "cell_type": "code",
   "execution_count": 9,
   "metadata": {},
   "outputs": [
    {
     "data": {
      "text/plain": [
       "Counter({1: 2, 2: 4, 3: 1, 54: 1, 4: 2, 5: 1})"
      ]
     },
     "execution_count": 9,
     "metadata": {},
     "output_type": "execute_result"
    }
   ],
   "source": [
    "# inside of the counter, elements are stored as dictionary keys and the counts are stored as dictionary values:\n",
    "lst = [1,2,2,2,3,54,1,2,4,4,5]\n",
    "Counter(lst)"
   ]
  },
  {
   "cell_type": "code",
   "execution_count": 10,
   "metadata": {},
   "outputs": [
    {
     "data": {
      "text/plain": [
       "Counter({'a': 6, 'b': 2, 'e': 3, 'c': 1, 's': 1, 'g': 2, 'd': 1, 'f': 1})"
      ]
     },
     "execution_count": 10,
     "metadata": {},
     "output_type": "execute_result"
    }
   ],
   "source": [
    "# this can also be done with a string:\n",
    "str = 'abecasegbadaegafa'\n",
    "Counter(str)"
   ]
  },
  {
   "cell_type": "code",
   "execution_count": 11,
   "metadata": {},
   "outputs": [],
   "source": [
    "# how to count words in a sentence:\n",
    "sentence = 'How many times does this word or this word show up or not show up in this sentence.'"
   ]
  },
  {
   "cell_type": "code",
   "execution_count": 12,
   "metadata": {},
   "outputs": [],
   "source": [
    "words = sentence.split()"
   ]
  },
  {
   "cell_type": "code",
   "execution_count": 13,
   "metadata": {},
   "outputs": [
    {
     "data": {
      "text/plain": [
       "Counter({'How': 1,\n",
       "         'many': 1,\n",
       "         'times': 1,\n",
       "         'does': 1,\n",
       "         'this': 3,\n",
       "         'word': 2,\n",
       "         'or': 2,\n",
       "         'show': 2,\n",
       "         'up': 2,\n",
       "         'not': 1,\n",
       "         'in': 1,\n",
       "         'sentence.': 1})"
      ]
     },
     "execution_count": 13,
     "metadata": {},
     "output_type": "execute_result"
    }
   ],
   "source": [
    "Counter(words)"
   ]
  },
  {
   "cell_type": "code",
   "execution_count": 14,
   "metadata": {},
   "outputs": [],
   "source": [
    "# A number of methods can be called, for example on the example with Counter, above:\n",
    "c = Counter(words)"
   ]
  },
  {
   "cell_type": "code",
   "execution_count": 15,
   "metadata": {},
   "outputs": [
    {
     "data": {
      "text/plain": [
       "[('this', 3), ('word', 2)]"
      ]
     },
     "execution_count": 15,
     "metadata": {},
     "output_type": "execute_result"
    }
   ],
   "source": [
    "c.most_common(2)"
   ]
  },
  {
   "cell_type": "markdown",
   "metadata": {},
   "source": [
    "## Methods of Counter"
   ]
  },
  {
   "cell_type": "code",
   "execution_count": null,
   "metadata": {},
   "outputs": [],
   "source": [
    "# The following methods are available for Counter:\n",
    "\n",
    "sum(c.values())              # the total of all counts\n",
    "c.clear()                    # reset all counts\n",
    "list(c)                      # list of unique elements\n",
    "set(c)                       # convert to a set\n",
    "dict(c)                      # convert to a regular dictionary\n",
    "c.items()                    # convert to a list of (element, count) pairs\n",
    "Counter(dict(list_of_pairs)) # convert from a list of (element, count) pairs\n",
    "c.most_common()[:-n-1;-1]    # n least common elements (with most_common, string indexing can be used)\n",
    "c += Counter()               # remove zero and negative counts"
   ]
  },
  {
   "cell_type": "markdown",
   "metadata": {},
   "source": [
    "# defaultdict"
   ]
  },
  {
   "cell_type": "markdown",
   "metadata": {},
   "source": [
    "defaultdict is a dictionary-like object with all methods that a dictionary has. It takes a first argument as default data type for the dictionary."
   ]
  }
 ],
 "metadata": {
  "kernelspec": {
   "display_name": "Python 3",
   "language": "python",
   "name": "python3"
  },
  "language_info": {
   "codemirror_mode": {
    "name": "ipython",
    "version": 3
   },
   "file_extension": ".py",
   "mimetype": "text/x-python",
   "name": "python",
   "nbconvert_exporter": "python",
   "pygments_lexer": "ipython3",
   "version": "3.7.0"
  }
 },
 "nbformat": 4,
 "nbformat_minor": 2
}
