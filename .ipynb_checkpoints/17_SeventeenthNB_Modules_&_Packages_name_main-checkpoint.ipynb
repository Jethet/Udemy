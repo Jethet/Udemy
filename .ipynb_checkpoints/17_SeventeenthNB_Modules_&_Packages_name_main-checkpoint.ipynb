{
 "cells": [
  {
   "cell_type": "markdown",
   "metadata": {},
   "source": [
    "# Modules & Packages: Pip install and PyPI"
   ]
  },
  {
   "cell_type": "markdown",
   "metadata": {},
   "source": [
    "Standard libraries are internal Python libraries, such as math.\n",
    "PyPI is a repository for open-source third party Python packages/libraries.\n",
    "You install these with pip:"
   ]
  },
  {
   "cell_type": "code",
   "execution_count": null,
   "metadata": {},
   "outputs": [],
   "source": [
    "# on the command line:\n",
    "...... pip install <package>"
   ]
  },
  {
   "cell_type": "markdown",
   "metadata": {},
   "source": [
    "Packages can be found by simple search on the internet. The website readthedocs.io offers most of them."
   ]
  },
  {
   "cell_type": "markdown",
   "metadata": {},
   "source": [
    "# Writing your own Modules and Packages"
   ]
  },
  {
   "cell_type": "markdown",
   "metadata": {},
   "source": [
    "A module is a .py script that you can call and use in another .py script.\n",
    "\n",
    "Packages are a collection of modules."
   ]
  },
  {
   "cell_type": "markdown",
   "metadata": {},
   "source": [
    "Using modules can help you to keep overview when creating large amounts of code.\n",
    "\n",
    "With many modules, it may become easier to create a package of modules.\n",
    "\n",
    "You can create a folder to add the modules to. This folder should have one file with __init__.py"
   ]
  },
  {
   "cell_type": "markdown",
   "metadata": {},
   "source": [
    "The __init__.py file should be added to each folder or subfolder that is a package containing modules. It indicates that the files are part of a package."
   ]
  },
  {
   "cell_type": "markdown",
   "metadata": {},
   "source": [
    "To use a package, write the syntax: \n",
    "\n",
    "from \"name-of-package\" import \"name-of-module\"\n",
    "\n",
    "for subpackages use:   from \"name-of-package\".\"name-subpackage\" import \"name-of-module\"\n",
    "\n",
    "You can even import specific functions from a module in a package or subpackage."
   ]
  },
  {
   "cell_type": "markdown",
   "metadata": {},
   "source": [
    "# if __name__ == \"__main__\":  what is this?"
   ]
  },
  {
   "cell_type": "markdown",
   "metadata": {},
   "source": [
    "When you import from a module, you want to know if a modules function is being used as an import, or if you are using the original .py file of that module. In this case we can use the:\n",
    "\n",
    "      if __name__ == \"__main__\":\n",
    "\n",
    "line to determine this. For example:\n",
    "\n",
    "When your script is run by passing it as a command to the Python interpreter:\n",
    "\n",
    "    python myscript.py\n",
    "\n",
    "all of the code that is at indentation level 0 gets executed. Functions and\n",
    "classes that are defined are, well, defined, but none of their code gets ran.\n",
    "Unlike other languages, there's no main() function that gets run automatically\n",
    "\n",
    "- the main() function is implicitly all the code at the top level."
   ]
  },
  {
   "cell_type": "markdown",
   "metadata": {},
   "source": [
    "In this case, the top-level code is an if block.  __name__ is a built-in variable\n",
    " which evaluate to the name of the current module. However, if a module is being\n",
    " run directly (as in myscript.py above), then __name__ instead is set to the\n",
    " string \"__main__\". Thus, you can test whether your script is being run directly\n",
    "  or being imported by something else by testing\n",
    "\n",
    "    if __name__ == \"__main__\":\n",
    "        ..."
   ]
  },
  {
   "cell_type": "markdown",
   "metadata": {},
   "source": [
    "If that code is being imported into another module, the various function and\n",
    "class definitions will be imported, but the main() code won't get run."
   ]
  },
  {
   "cell_type": "markdown",
   "metadata": {},
   "source": [
    "As a basic example, consider the following two scripts:\n",
    "\n",
    "    # file one.py\n",
    "    def func():\n",
    "        print(\"func() in one.py\")\n",
    "\n",
    "    print(\"top-level in one.py\")\n",
    "\n",
    "    if __name__ == \"__main__\":\n",
    "        print(\"one.py is being run directly\")\n",
    "    else:\n",
    "        print(\"one.py is being imported into another module\")\n",
    "\n",
    "and then:\n",
    "\n",
    "    # file two.py\n",
    "    import one\n",
    "\n",
    "    print(\"top-level in two.py\")\n",
    "    one.func()\n",
    "\n",
    "    if __name__ == \"__main__\":\n",
    "        print(\"two.py is being run directly\")\n",
    "    else:\n",
    "        print(\"two.py is being imported into another module\")"
   ]
  },
  {
   "cell_type": "markdown",
   "metadata": {},
   "source": [
    "Now, if you invoke the interpreter as\n",
    "\n",
    "    python one.py\n",
    "\n",
    "The output will be\n",
    "\n",
    "    top-level in one.py\n",
    "\n",
    "one.py is being run directly\n",
    "If you run two.py instead:\n",
    "\n",
    "    python two.py\n",
    "\n",
    "You get\n",
    "\n",
    "  top-level in one.py\n",
    "  one.py is being imported into another module\n",
    "  top-level in two.py\n",
    "  func() in one.py\n",
    "  two.py is being run directly\n",
    "  \n",
    "Thus, when module one gets loaded, its __name__ equals \"one\" instead of __main__."
   ]
  }
 ],
 "metadata": {
  "kernelspec": {
   "display_name": "Python 3",
   "language": "python",
   "name": "python3"
  },
  "language_info": {
   "codemirror_mode": {
    "name": "ipython",
    "version": 3
   },
   "file_extension": ".py",
   "mimetype": "text/x-python",
   "name": "python",
   "nbconvert_exporter": "python",
   "pygments_lexer": "ipython3",
   "version": "3.7.0"
  }
 },
 "nbformat": 4,
 "nbformat_minor": 2
}
