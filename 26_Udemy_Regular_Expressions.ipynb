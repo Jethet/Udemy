{
 "cells": [
  {
   "cell_type": "markdown",
   "metadata": {},
   "source": [
    "# Regular expressions - re"
   ]
  },
  {
   "cell_type": "markdown",
   "metadata": {},
   "source": [
    "A regular expression is a special sequence of characters that helps to match or find other strings or sets of strings, using a specialized syntax held in a pattern.\n",
    "Regular expressions are text matching patterns, described with a formal syntax. They are often referred to as regex."
   ]
  },
  {
   "cell_type": "code",
   "execution_count": 3,
   "metadata": {},
   "outputs": [],
   "source": [
    "# Search for a pattern in a text:\n",
    "\n",
    "import re\n",
    "\n",
    "patterns = ['term1', 'term2']\n",
    "text = 'This is a string with term 1 but not the other term'"
   ]
  },
  {
   "cell_type": "code",
   "execution_count": null,
   "metadata": {},
   "outputs": [],
   "source": [
    "for pattern in patterns:\n",
    "    print('Searching for \"%s\" in: \\n\"%s\"' % (pattern, text))\n",
    "    \n",
    "    # Check for a match:\n",
    "    if re.search(pattern, text):\n",
    "        print('\\n')\n",
    "        print('Match was found.\\n')\n",
    "    else:\n",
    "        print('\\n')\n",
    "        print('No match was found. \\n')"
   ]
  }
 ],
 "metadata": {
  "kernelspec": {
   "display_name": "Python 3",
   "language": "python",
   "name": "python3"
  },
  "language_info": {
   "codemirror_mode": {
    "name": "ipython",
    "version": 3
   },
   "file_extension": ".py",
   "mimetype": "text/x-python",
   "name": "python",
   "nbconvert_exporter": "python",
   "pygments_lexer": "ipython3",
   "version": "3.7.0"
  }
 },
 "nbformat": 4,
 "nbformat_minor": 2
}
