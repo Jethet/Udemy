{
 "cells": [
  {
   "cell_type": "markdown",
   "metadata": {},
   "source": [
    "# Object Oriented Programming (OOP)"
   ]
  },
  {
   "cell_type": "markdown",
   "metadata": {},
   "source": [
    "OOP allows you to create your own objects that have methods and attributes (the same way as you can do with a string, list etc., using for example str.count() or len(lst) syntax).\n",
    "These methods act as functions, using information about the object and the actual object iself to return results or to change the current object (for example appending to a list)."
   ]
  },
  {
   "cell_type": "markdown",
   "metadata": {},
   "source": [
    "Goal of OOP: create code that is repeatable and organised.\n",
    "Commonly repeated tasks and objects can be defined with OOP to create code that is more usable."
   ]
  },
  {
   "cell_type": "code",
   "execution_count": null,
   "metadata": {},
   "outputs": [],
   "source": [
    "# Class keyword + name (camel-casing: each individual word is capitalised!)    \n",
    "#(objects are sometimes called 'classes' in Python)\n",
    "\n",
    "class NameOfClass():\n",
    "    "
   ]
  },
  {
   "cell_type": "code",
   "execution_count": null,
   "metadata": {},
   "outputs": [],
   "source": [
    "# Inside a class call, 'def' is not a function but a method.\n",
    "# 'init' creates an instance of the object (class)\n",
    "\n",
    "def __init__(self,param1, param2):\n",
    "    self.param1 = param1\n",
    "    self.param2 = param2\n",
    "    \n",
    "# param1 and param2 will be the parameters Python expects will be passed when the instance\n",
    "# is created. The parameters have to be assigned to an attribute of the function (?? method?)\n",
    "# That way self.param2 refers to the attribute param2 connected to this instance of the class\n",
    "# instead of a global variable. This means that with self. the parameter is linked to the object.\n",
    "# The type of the instance is __main__.NameOfClass."
   ]
  },
  {
   "cell_type": "code",
   "execution_count": null,
   "metadata": {},
   "outputs": [],
   "source": [
    "# After this there can be various method calls and these look like functions:\n",
    "# use def and then the name of what you want the method to be, and then pass in the self keyword\n",
    "# to indicate that this is a method connected to this class.\n",
    "\n",
    "def some_method(self):\n",
    "    print(self.param2)\n",
    "    \n",
    "# The keyword self points at the attribute param2 that is connected to the class itself.\n",
    "# An attribute is a characteristic of an object.\n"
   ]
  },
  {
   "cell_type": "markdown",
   "metadata": {},
   "source": [
    "# Using OOP"
   ]
  },
  {
   "cell_type": "markdown",
   "metadata": {},
   "source": [
    "Everything in Python is an object: set, string, list etc. The keyword class is used to create a user-defined object. The class is the 'blueprint' of the object. From the class, you can create instances: an object created from a particular class. '__init__' is the constructor of the instance you want to create. "
   ]
  },
  {
   "cell_type": "code",
   "execution_count": 6,
   "metadata": {},
   "outputs": [],
   "source": [
    "# Create a class called Dog:\n",
    "class Dog():\n",
    "    # Create attributes; first self keyword that connects instance to the class:\n",
    "    # Take in the argument; assign it using self.attribute_name\n",
    "    def __init__(self,breed):\n",
    "        self.breed = breed\n",
    "        "
   ]
  },
  {
   "cell_type": "code",
   "execution_count": 8,
   "metadata": {},
   "outputs": [],
   "source": [
    "my_dog = Dog(breed='Lab')\n",
    "# cannot run this without positional argument: a parameter (breed) is expected"
   ]
  },
  {
   "cell_type": "code",
   "execution_count": 9,
   "metadata": {},
   "outputs": [
    {
     "data": {
      "text/plain": [
       "__main__.Dog"
      ]
     },
     "execution_count": 9,
     "metadata": {},
     "output_type": "execute_result"
    }
   ],
   "source": [
    "type(my_dog)"
   ]
  },
  {
   "cell_type": "code",
   "execution_count": 10,
   "metadata": {},
   "outputs": [
    {
     "data": {
      "text/plain": [
       "'Lab'"
      ]
     },
     "execution_count": 10,
     "metadata": {},
     "output_type": "execute_result"
    }
   ],
   "source": [
    "my_dog.breed"
   ]
  },
  {
   "cell_type": "code",
   "execution_count": 11,
   "metadata": {},
   "outputs": [],
   "source": [
    "# Elaborate with more attributes:\n",
    "class Dog():\n",
    "    def __init__(self,breed,name,spots):\n",
    "        self.breed = breed\n",
    "        self.name = name\n",
    "        self.spots = spots      # Expect boolean True/False; attribute can be str, list, etc."
   ]
  },
  {
   "cell_type": "code",
   "execution_count": 17,
   "metadata": {},
   "outputs": [],
   "source": [
    "my_dog = Dog(breed='lab',name='Sammy',spots=False)"
   ]
  },
  {
   "cell_type": "code",
   "execution_count": 18,
   "metadata": {},
   "outputs": [
    {
     "data": {
      "text/plain": [
       "'lab'"
      ]
     },
     "execution_count": 18,
     "metadata": {},
     "output_type": "execute_result"
    }
   ],
   "source": [
    "my_dog.breed"
   ]
  },
  {
   "cell_type": "code",
   "execution_count": null,
   "metadata": {},
   "outputs": [],
   "source": [
    "my_dog."
   ]
  }
 ],
 "metadata": {
  "kernelspec": {
   "display_name": "Python 3",
   "language": "python",
   "name": "python3"
  },
  "language_info": {
   "codemirror_mode": {
    "name": "ipython",
    "version": 3
   },
   "file_extension": ".py",
   "mimetype": "text/x-python",
   "name": "python",
   "nbconvert_exporter": "python",
   "pygments_lexer": "ipython3",
   "version": "3.7.0"
  }
 },
 "nbformat": 4,
 "nbformat_minor": 2
}
